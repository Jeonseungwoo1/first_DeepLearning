{
  "nbformat": 4,
  "nbformat_minor": 0,
  "metadata": {
    "colab": {
      "provenance": [],
      "gpuType": "T4",
      "authorship_tag": "ABX9TyNcAQXhWGsg1Zrr1oX2yGns",
      "include_colab_link": true
    },
    "kernelspec": {
      "name": "python3",
      "display_name": "Python 3"
    },
    "language_info": {
      "name": "python"
    },
    "accelerator": "GPU"
  },
  "cells": [
    {
      "cell_type": "markdown",
      "metadata": {
        "id": "view-in-github",
        "colab_type": "text"
      },
      "source": [
        "<a href=\"https://colab.research.google.com/github/Jeonseungwoo1/first_DeepLearning/blob/main/FasterRCNN.ipynb\" target=\"_parent\"><img src=\"https://colab.research.google.com/assets/colab-badge.svg\" alt=\"Open In Colab\"/></a>"
      ]
    },
    {
      "cell_type": "code",
      "source": [
        "import torch\n",
        "import torchvision\n",
        "from PIL import Image, ImageDraw, ImageFont\n",
        "import torchvision.transforms as T\n",
        "\n",
        "# 사전 학습된 Faster R-CNN 모델 로드\n",
        "model = torchvision.models.detection.fasterrcnn_resnet50_fpn(pretrained=True)\n",
        "model.eval()\n",
        "\n",
        "# 이미지 로드 및 전처리\n",
        "img_path = \"/content/image1.jpeg\"  # 이미지 파일 경로\n",
        "img = Image.open(img_path).convert(\"RGB\")\n",
        "transform = T.Compose([T.ToTensor()])\n",
        "img_tensor = transform(img)\n",
        "\n",
        "# 예측 수행\n",
        "with torch.no_grad():\n",
        "    predictions = model([img_tensor])\n",
        "\n",
        "# 예측 결과에서 바운딩 박스와 레이블, 점수 추출\n",
        "boxes = predictions[0]['boxes']\n",
        "labels = predictions[0]['labels']\n",
        "scores = predictions[0]['scores']\n",
        "\n",
        "# 점수가 0.5 이상인 바운딩 박스만 선택\n",
        "threshold = 0.5\n",
        "selected_indices = scores > threshold\n",
        "boxes = boxes[selected_indices]\n",
        "labels = labels[selected_indices]\n",
        "scores = scores[selected_indices]\n",
        "\n",
        "# 이미지에 바운딩 박스 그리기\n",
        "draw = ImageDraw.Draw(img)\n",
        "font = ImageFont.load_default()\n",
        "\n",
        "for box, label, score in zip(boxes, labels, scores):\n",
        "    x1, y1, x2, y2 = box\n",
        "    draw.rectangle([(x1, y1), (x2, y2)], outline=\"red\", width=3)\n",
        "    draw.text((x1, y1), f\"{label.item()}:{score:.2f}\", fill=\"red\", font=font)\n",
        "\n",
        "# 결과 이미지 저장 및 표시\n",
        "output_path = \"result.jpg\"\n",
        "img.save(output_path)\n",
        "img.show()\n"
      ],
      "metadata": {
        "id": "N-Pd3UPCHDQX"
      },
      "execution_count": 4,
      "outputs": []
    }
  ]
}